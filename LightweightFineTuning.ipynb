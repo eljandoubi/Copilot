{
  "cells": [
    {
      "cell_type": "markdown",
      "id": "f35354cd",
      "metadata": {
        "id": "f35354cd"
      },
      "source": [
        "# Lightweight Fine-Tuning Project"
      ]
    },
    {
      "cell_type": "markdown",
      "id": "560fb3ff",
      "metadata": {
        "id": "560fb3ff"
      },
      "source": [
        "In this cell, describe your choices for each of the following\n",
        "\n",
        "* PEFT technique: QLoRA\n",
        "* Model: mistralai/Mistral-7B-v0.1\n",
        "* Evaluation approach: Rouge score\n",
        "* Fine-tuning dataset: codeparrot/github-code"
      ]
    },
    {
      "cell_type": "code",
      "execution_count": 2,
      "id": "631be58c",
      "metadata": {
        "colab": {
          "base_uri": "https://localhost:8080/"
        },
        "id": "631be58c",
        "outputId": "be4a6587-b1ae-431f-d0d5-b96e77655875"
      },
      "outputs": [
        {
          "output_type": "stream",
          "name": "stdout",
          "text": [
            "Requirement already satisfied: ipywidgets==8.1.1 in /usr/local/lib/python3.10/dist-packages (from -r requirements.txt (line 1)) (8.1.1)\n",
            "Requirement already satisfied: evaluate==0.4.1 in /usr/local/lib/python3.10/dist-packages (from -r requirements.txt (line 2)) (0.4.1)\n",
            "Requirement already satisfied: datasets==2.16.1 in /usr/local/lib/python3.10/dist-packages (from -r requirements.txt (line 3)) (2.16.1)\n",
            "Requirement already satisfied: transformers==4.37.2 in /usr/local/lib/python3.10/dist-packages (from -r requirements.txt (line 4)) (4.37.2)\n",
            "Requirement already satisfied: accelerate==0.26.1 in /usr/local/lib/python3.10/dist-packages (from -r requirements.txt (line 5)) (0.26.1)\n",
            "Requirement already satisfied: bitsandbytes==0.42.0 in /usr/local/lib/python3.10/dist-packages (from -r requirements.txt (line 6)) (0.42.0)\n",
            "Requirement already satisfied: peft==0.8.1 in /usr/local/lib/python3.10/dist-packages (from -r requirements.txt (line 7)) (0.8.1)\n",
            "Requirement already satisfied: rouge-score==0.1.2 in /usr/local/lib/python3.10/dist-packages (from -r requirements.txt (line 8)) (0.1.2)\n",
            "Requirement already satisfied: torch==2.2.0 in /usr/local/lib/python3.10/dist-packages (from -r requirements.txt (line 9)) (2.2.0)\n",
            "Requirement already satisfied: comm>=0.1.3 in /usr/local/lib/python3.10/dist-packages (from ipywidgets==8.1.1->-r requirements.txt (line 1)) (0.2.1)\n",
            "Requirement already satisfied: ipython>=6.1.0 in /usr/local/lib/python3.10/dist-packages (from ipywidgets==8.1.1->-r requirements.txt (line 1)) (7.34.0)\n",
            "Requirement already satisfied: traitlets>=4.3.1 in /usr/local/lib/python3.10/dist-packages (from ipywidgets==8.1.1->-r requirements.txt (line 1)) (5.7.1)\n",
            "Requirement already satisfied: widgetsnbextension~=4.0.9 in /usr/local/lib/python3.10/dist-packages (from ipywidgets==8.1.1->-r requirements.txt (line 1)) (4.0.9)\n",
            "Requirement already satisfied: jupyterlab-widgets~=3.0.9 in /usr/local/lib/python3.10/dist-packages (from ipywidgets==8.1.1->-r requirements.txt (line 1)) (3.0.9)\n",
            "Requirement already satisfied: numpy>=1.17 in /usr/local/lib/python3.10/dist-packages (from evaluate==0.4.1->-r requirements.txt (line 2)) (1.23.5)\n",
            "Requirement already satisfied: dill in /usr/local/lib/python3.10/dist-packages (from evaluate==0.4.1->-r requirements.txt (line 2)) (0.3.7)\n",
            "Requirement already satisfied: pandas in /usr/local/lib/python3.10/dist-packages (from evaluate==0.4.1->-r requirements.txt (line 2)) (1.5.3)\n",
            "Requirement already satisfied: requests>=2.19.0 in /usr/local/lib/python3.10/dist-packages (from evaluate==0.4.1->-r requirements.txt (line 2)) (2.31.0)\n",
            "Requirement already satisfied: tqdm>=4.62.1 in /usr/local/lib/python3.10/dist-packages (from evaluate==0.4.1->-r requirements.txt (line 2)) (4.66.1)\n",
            "Requirement already satisfied: xxhash in /usr/local/lib/python3.10/dist-packages (from evaluate==0.4.1->-r requirements.txt (line 2)) (3.4.1)\n",
            "Requirement already satisfied: multiprocess in /usr/local/lib/python3.10/dist-packages (from evaluate==0.4.1->-r requirements.txt (line 2)) (0.70.15)\n",
            "Requirement already satisfied: fsspec[http]>=2021.05.0 in /usr/local/lib/python3.10/dist-packages (from evaluate==0.4.1->-r requirements.txt (line 2)) (2023.6.0)\n",
            "Requirement already satisfied: huggingface-hub>=0.7.0 in /usr/local/lib/python3.10/dist-packages (from evaluate==0.4.1->-r requirements.txt (line 2)) (0.20.3)\n",
            "Requirement already satisfied: packaging in /usr/local/lib/python3.10/dist-packages (from evaluate==0.4.1->-r requirements.txt (line 2)) (23.2)\n",
            "Requirement already satisfied: responses<0.19 in /usr/local/lib/python3.10/dist-packages (from evaluate==0.4.1->-r requirements.txt (line 2)) (0.18.0)\n",
            "Requirement already satisfied: filelock in /usr/local/lib/python3.10/dist-packages (from datasets==2.16.1->-r requirements.txt (line 3)) (3.13.1)\n",
            "Requirement already satisfied: pyarrow>=8.0.0 in /usr/local/lib/python3.10/dist-packages (from datasets==2.16.1->-r requirements.txt (line 3)) (10.0.1)\n",
            "Requirement already satisfied: pyarrow-hotfix in /usr/local/lib/python3.10/dist-packages (from datasets==2.16.1->-r requirements.txt (line 3)) (0.6)\n",
            "Requirement already satisfied: aiohttp in /usr/local/lib/python3.10/dist-packages (from datasets==2.16.1->-r requirements.txt (line 3)) (3.9.1)\n",
            "Requirement already satisfied: pyyaml>=5.1 in /usr/local/lib/python3.10/dist-packages (from datasets==2.16.1->-r requirements.txt (line 3)) (6.0.1)\n",
            "Requirement already satisfied: regex!=2019.12.17 in /usr/local/lib/python3.10/dist-packages (from transformers==4.37.2->-r requirements.txt (line 4)) (2023.6.3)\n",
            "Requirement already satisfied: tokenizers<0.19,>=0.14 in /usr/local/lib/python3.10/dist-packages (from transformers==4.37.2->-r requirements.txt (line 4)) (0.15.1)\n",
            "Requirement already satisfied: safetensors>=0.4.1 in /usr/local/lib/python3.10/dist-packages (from transformers==4.37.2->-r requirements.txt (line 4)) (0.4.2)\n",
            "Requirement already satisfied: psutil in /usr/local/lib/python3.10/dist-packages (from accelerate==0.26.1->-r requirements.txt (line 5)) (5.9.5)\n",
            "Requirement already satisfied: scipy in /usr/local/lib/python3.10/dist-packages (from bitsandbytes==0.42.0->-r requirements.txt (line 6)) (1.11.4)\n",
            "Requirement already satisfied: absl-py in /usr/local/lib/python3.10/dist-packages (from rouge-score==0.1.2->-r requirements.txt (line 8)) (1.4.0)\n",
            "Requirement already satisfied: nltk in /usr/local/lib/python3.10/dist-packages (from rouge-score==0.1.2->-r requirements.txt (line 8)) (3.8.1)\n",
            "Requirement already satisfied: six>=1.14.0 in /usr/local/lib/python3.10/dist-packages (from rouge-score==0.1.2->-r requirements.txt (line 8)) (1.16.0)\n",
            "Requirement already satisfied: typing-extensions>=4.8.0 in /usr/local/lib/python3.10/dist-packages (from torch==2.2.0->-r requirements.txt (line 9)) (4.9.0)\n",
            "Requirement already satisfied: sympy in /usr/local/lib/python3.10/dist-packages (from torch==2.2.0->-r requirements.txt (line 9)) (1.12)\n",
            "Requirement already satisfied: networkx in /usr/local/lib/python3.10/dist-packages (from torch==2.2.0->-r requirements.txt (line 9)) (3.2.1)\n",
            "Requirement already satisfied: jinja2 in /usr/local/lib/python3.10/dist-packages (from torch==2.2.0->-r requirements.txt (line 9)) (3.1.3)\n",
            "Requirement already satisfied: nvidia-cuda-nvrtc-cu12==12.1.105 in /usr/local/lib/python3.10/dist-packages (from torch==2.2.0->-r requirements.txt (line 9)) (12.1.105)\n",
            "Requirement already satisfied: nvidia-cuda-runtime-cu12==12.1.105 in /usr/local/lib/python3.10/dist-packages (from torch==2.2.0->-r requirements.txt (line 9)) (12.1.105)\n",
            "Requirement already satisfied: nvidia-cuda-cupti-cu12==12.1.105 in /usr/local/lib/python3.10/dist-packages (from torch==2.2.0->-r requirements.txt (line 9)) (12.1.105)\n",
            "Requirement already satisfied: nvidia-cudnn-cu12==8.9.2.26 in /usr/local/lib/python3.10/dist-packages (from torch==2.2.0->-r requirements.txt (line 9)) (8.9.2.26)\n",
            "Requirement already satisfied: nvidia-cublas-cu12==12.1.3.1 in /usr/local/lib/python3.10/dist-packages (from torch==2.2.0->-r requirements.txt (line 9)) (12.1.3.1)\n",
            "Requirement already satisfied: nvidia-cufft-cu12==11.0.2.54 in /usr/local/lib/python3.10/dist-packages (from torch==2.2.0->-r requirements.txt (line 9)) (11.0.2.54)\n",
            "Requirement already satisfied: nvidia-curand-cu12==10.3.2.106 in /usr/local/lib/python3.10/dist-packages (from torch==2.2.0->-r requirements.txt (line 9)) (10.3.2.106)\n",
            "Requirement already satisfied: nvidia-cusolver-cu12==11.4.5.107 in /usr/local/lib/python3.10/dist-packages (from torch==2.2.0->-r requirements.txt (line 9)) (11.4.5.107)\n",
            "Requirement already satisfied: nvidia-cusparse-cu12==12.1.0.106 in /usr/local/lib/python3.10/dist-packages (from torch==2.2.0->-r requirements.txt (line 9)) (12.1.0.106)\n",
            "Requirement already satisfied: nvidia-nccl-cu12==2.19.3 in /usr/local/lib/python3.10/dist-packages (from torch==2.2.0->-r requirements.txt (line 9)) (2.19.3)\n",
            "Requirement already satisfied: nvidia-nvtx-cu12==12.1.105 in /usr/local/lib/python3.10/dist-packages (from torch==2.2.0->-r requirements.txt (line 9)) (12.1.105)\n",
            "Requirement already satisfied: triton==2.2.0 in /usr/local/lib/python3.10/dist-packages (from torch==2.2.0->-r requirements.txt (line 9)) (2.2.0)\n",
            "Requirement already satisfied: nvidia-nvjitlink-cu12 in /usr/local/lib/python3.10/dist-packages (from nvidia-cusolver-cu12==11.4.5.107->torch==2.2.0->-r requirements.txt (line 9)) (12.3.101)\n",
            "Requirement already satisfied: attrs>=17.3.0 in /usr/local/lib/python3.10/dist-packages (from aiohttp->datasets==2.16.1->-r requirements.txt (line 3)) (23.2.0)\n",
            "Requirement already satisfied: multidict<7.0,>=4.5 in /usr/local/lib/python3.10/dist-packages (from aiohttp->datasets==2.16.1->-r requirements.txt (line 3)) (6.0.4)\n",
            "Requirement already satisfied: yarl<2.0,>=1.0 in /usr/local/lib/python3.10/dist-packages (from aiohttp->datasets==2.16.1->-r requirements.txt (line 3)) (1.9.4)\n",
            "Requirement already satisfied: frozenlist>=1.1.1 in /usr/local/lib/python3.10/dist-packages (from aiohttp->datasets==2.16.1->-r requirements.txt (line 3)) (1.4.1)\n",
            "Requirement already satisfied: aiosignal>=1.1.2 in /usr/local/lib/python3.10/dist-packages (from aiohttp->datasets==2.16.1->-r requirements.txt (line 3)) (1.3.1)\n",
            "Requirement already satisfied: async-timeout<5.0,>=4.0 in /usr/local/lib/python3.10/dist-packages (from aiohttp->datasets==2.16.1->-r requirements.txt (line 3)) (4.0.3)\n",
            "Requirement already satisfied: setuptools>=18.5 in /usr/local/lib/python3.10/dist-packages (from ipython>=6.1.0->ipywidgets==8.1.1->-r requirements.txt (line 1)) (67.7.2)\n",
            "Requirement already satisfied: jedi>=0.16 in /usr/local/lib/python3.10/dist-packages (from ipython>=6.1.0->ipywidgets==8.1.1->-r requirements.txt (line 1)) (0.19.1)\n",
            "Requirement already satisfied: decorator in /usr/local/lib/python3.10/dist-packages (from ipython>=6.1.0->ipywidgets==8.1.1->-r requirements.txt (line 1)) (4.4.2)\n",
            "Requirement already satisfied: pickleshare in /usr/local/lib/python3.10/dist-packages (from ipython>=6.1.0->ipywidgets==8.1.1->-r requirements.txt (line 1)) (0.7.5)\n",
            "Requirement already satisfied: prompt-toolkit!=3.0.0,!=3.0.1,<3.1.0,>=2.0.0 in /usr/local/lib/python3.10/dist-packages (from ipython>=6.1.0->ipywidgets==8.1.1->-r requirements.txt (line 1)) (3.0.43)\n",
            "Requirement already satisfied: pygments in /usr/local/lib/python3.10/dist-packages (from ipython>=6.1.0->ipywidgets==8.1.1->-r requirements.txt (line 1)) (2.16.1)\n",
            "Requirement already satisfied: backcall in /usr/local/lib/python3.10/dist-packages (from ipython>=6.1.0->ipywidgets==8.1.1->-r requirements.txt (line 1)) (0.2.0)\n",
            "Requirement already satisfied: matplotlib-inline in /usr/local/lib/python3.10/dist-packages (from ipython>=6.1.0->ipywidgets==8.1.1->-r requirements.txt (line 1)) (0.1.6)\n",
            "Requirement already satisfied: pexpect>4.3 in /usr/local/lib/python3.10/dist-packages (from ipython>=6.1.0->ipywidgets==8.1.1->-r requirements.txt (line 1)) (4.9.0)\n",
            "Requirement already satisfied: charset-normalizer<4,>=2 in /usr/local/lib/python3.10/dist-packages (from requests>=2.19.0->evaluate==0.4.1->-r requirements.txt (line 2)) (3.3.2)\n",
            "Requirement already satisfied: idna<4,>=2.5 in /usr/local/lib/python3.10/dist-packages (from requests>=2.19.0->evaluate==0.4.1->-r requirements.txt (line 2)) (3.6)\n",
            "Requirement already satisfied: urllib3<3,>=1.21.1 in /usr/local/lib/python3.10/dist-packages (from requests>=2.19.0->evaluate==0.4.1->-r requirements.txt (line 2)) (2.0.7)\n",
            "Requirement already satisfied: certifi>=2017.4.17 in /usr/local/lib/python3.10/dist-packages (from requests>=2.19.0->evaluate==0.4.1->-r requirements.txt (line 2)) (2023.11.17)\n",
            "Requirement already satisfied: MarkupSafe>=2.0 in /usr/local/lib/python3.10/dist-packages (from jinja2->torch==2.2.0->-r requirements.txt (line 9)) (2.1.4)\n",
            "Requirement already satisfied: click in /usr/local/lib/python3.10/dist-packages (from nltk->rouge-score==0.1.2->-r requirements.txt (line 8)) (8.1.7)\n",
            "Requirement already satisfied: joblib in /usr/local/lib/python3.10/dist-packages (from nltk->rouge-score==0.1.2->-r requirements.txt (line 8)) (1.3.2)\n",
            "Requirement already satisfied: python-dateutil>=2.8.1 in /usr/local/lib/python3.10/dist-packages (from pandas->evaluate==0.4.1->-r requirements.txt (line 2)) (2.8.2)\n",
            "Requirement already satisfied: pytz>=2020.1 in /usr/local/lib/python3.10/dist-packages (from pandas->evaluate==0.4.1->-r requirements.txt (line 2)) (2023.3.post1)\n",
            "Requirement already satisfied: mpmath>=0.19 in /usr/local/lib/python3.10/dist-packages (from sympy->torch==2.2.0->-r requirements.txt (line 9)) (1.3.0)\n",
            "Requirement already satisfied: parso<0.9.0,>=0.8.3 in /usr/local/lib/python3.10/dist-packages (from jedi>=0.16->ipython>=6.1.0->ipywidgets==8.1.1->-r requirements.txt (line 1)) (0.8.3)\n",
            "Requirement already satisfied: ptyprocess>=0.5 in /usr/local/lib/python3.10/dist-packages (from pexpect>4.3->ipython>=6.1.0->ipywidgets==8.1.1->-r requirements.txt (line 1)) (0.7.0)\n",
            "Requirement already satisfied: wcwidth in /usr/local/lib/python3.10/dist-packages (from prompt-toolkit!=3.0.0,!=3.0.1,<3.1.0,>=2.0.0->ipython>=6.1.0->ipywidgets==8.1.1->-r requirements.txt (line 1)) (0.2.13)\n"
          ]
        }
      ],
      "source": [
        "!pip install -r requirements.txt"
      ]
    },
    {
      "cell_type": "markdown",
      "id": "de8d76bb",
      "metadata": {
        "id": "de8d76bb"
      },
      "source": [
        "## Loading and Evaluating a Foundation Model\n",
        "\n",
        "In the cells below, I load the pre-trained Hugging Face model and evaluate its performance prior to fine-tuning. This step includes loading an appropriate tokenizer and dataset."
      ]
    },
    {
      "cell_type": "code",
      "execution_count": 3,
      "id": "86a636a5",
      "metadata": {
        "id": "86a636a5"
      },
      "outputs": [],
      "source": [
        "from datasets import load_dataset"
      ]
    },
    {
      "cell_type": "code",
      "execution_count": 4,
      "id": "210090a3",
      "metadata": {
        "id": "210090a3"
      },
      "outputs": [],
      "source": [
        "train_size=100_000"
      ]
    },
    {
      "cell_type": "code",
      "execution_count": 5,
      "id": "89f8519e",
      "metadata": {
        "id": "89f8519e"
      },
      "outputs": [],
      "source": [
        "val_size=train_size//10"
      ]
    },
    {
      "cell_type": "code",
      "execution_count": 6,
      "id": "30c4e8d2",
      "metadata": {
        "id": "30c4e8d2"
      },
      "outputs": [],
      "source": [
        "test_size=val_size"
      ]
    },
    {
      "cell_type": "code",
      "execution_count": 7,
      "id": "49b7e7a1",
      "metadata": {
        "id": "49b7e7a1"
      },
      "outputs": [],
      "source": [
        "seed=42"
      ]
    },
    {
      "cell_type": "code",
      "execution_count": 8,
      "id": "f551c63a",
      "metadata": {
        "colab": {
          "base_uri": "https://localhost:8080/"
        },
        "id": "f551c63a",
        "outputId": "ad06c0a4-c694-4f23-fc2b-184e537c5faf"
      },
      "outputs": [
        {
          "output_type": "stream",
          "name": "stderr",
          "text": [
            "/usr/local/lib/python3.10/dist-packages/huggingface_hub/utils/_token.py:88: UserWarning: \n",
            "The secret `HF_TOKEN` does not exist in your Colab secrets.\n",
            "To authenticate with the Hugging Face Hub, create a token in your settings tab (https://huggingface.co/settings/tokens), set it as secret in your Google Colab and restart your session.\n",
            "You will be able to reuse this secret in all of your notebooks.\n",
            "Please note that authentication is recommended but still optional to access public models or datasets.\n",
            "  warnings.warn(\n"
          ]
        }
      ],
      "source": [
        "ds=load_dataset(\"codeparrot/github-code\", streaming=True, trust_remote_code=True,\n",
        "                split=\"train\").shuffle(seed=seed,\n",
        "                                       buffer_size=train_size+val_size+test_size)"
      ]
    },
    {
      "cell_type": "code",
      "execution_count": 9,
      "id": "c0cd7f67",
      "metadata": {
        "id": "c0cd7f67"
      },
      "outputs": [],
      "source": [
        "train_ds=ds.take(train_size)"
      ]
    },
    {
      "cell_type": "code",
      "execution_count": 10,
      "id": "f28c4a78",
      "metadata": {
        "id": "f28c4a78"
      },
      "outputs": [],
      "source": [
        "val_ds=ds.skip(train_size).take(val_size)"
      ]
    },
    {
      "cell_type": "code",
      "execution_count": 11,
      "id": "019b9f55",
      "metadata": {
        "id": "019b9f55"
      },
      "outputs": [],
      "source": [
        "test_ds=ds.skip(train_size+val_size).take(test_size)"
      ]
    },
    {
      "cell_type": "code",
      "execution_count": 12,
      "id": "5176b07f",
      "metadata": {
        "id": "5176b07f"
      },
      "outputs": [],
      "source": [
        "from evaluate import evaluator,load"
      ]
    },
    {
      "cell_type": "code",
      "execution_count": 13,
      "id": "d776c1ca",
      "metadata": {
        "id": "d776c1ca"
      },
      "outputs": [],
      "source": [
        "task_evaluator=evaluator(task = 'text-generation')"
      ]
    },
    {
      "cell_type": "code",
      "execution_count": 14,
      "id": "ff2ce5fe",
      "metadata": {
        "id": "ff2ce5fe"
      },
      "outputs": [],
      "source": [
        "metric_name=\"rouge\""
      ]
    },
    {
      "cell_type": "code",
      "execution_count": 15,
      "id": "165e9cdf",
      "metadata": {
        "id": "165e9cdf"
      },
      "outputs": [],
      "source": [
        "metric=load(metric_name)"
      ]
    },
    {
      "cell_type": "code",
      "execution_count": 16,
      "id": "bd00f667",
      "metadata": {
        "id": "bd00f667"
      },
      "outputs": [],
      "source": [
        "from transformers import AutoModelForCausalLM, AutoTokenizer"
      ]
    },
    {
      "cell_type": "code",
      "execution_count": 17,
      "id": "f4f5c00d",
      "metadata": {
        "id": "f4f5c00d"
      },
      "outputs": [],
      "source": [
        "model_id = \"mistralai/Mistral-7B-v0.1\""
      ]
    },
    {
      "cell_type": "code",
      "execution_count": 18,
      "id": "d9334eb7",
      "metadata": {
        "id": "d9334eb7"
      },
      "outputs": [],
      "source": [
        "tokenizer = AutoTokenizer.from_pretrained(model_id)"
      ]
    },
    {
      "cell_type": "code",
      "source": [
        "if tokenizer.pad_token_id is None:\n",
        "  print(\"it was None\")\n",
        "  tokenizer.pad_token_id = tokenizer.eos_token_id"
      ],
      "metadata": {
        "id": "EJfxPKvTy7-7"
      },
      "id": "EJfxPKvTy7-7",
      "execution_count": 28,
      "outputs": []
    },
    {
      "cell_type": "code",
      "execution_count": 20,
      "id": "532892e1",
      "metadata": {
        "colab": {
          "referenced_widgets": [
            "129d2dbf711c42dd99f9c72d4f1201eb",
            "afe9cd925cda490b9026987a3781dbde",
            "398d13b67bc44b7698207f760d0e386f",
            "a219669e476540c48b4070583b6bab66",
            "4acaa70088fd4400a290910d3f0054cd",
            "410e8eb0379d44879cde49e75385ea1b",
            "c8efcac1d0f84c959f913ba547237d88",
            "2a7350b5998c414ba4ff3da8337e372e",
            "ebb1bf3ee9f44513bf3c622fa0fab69c",
            "3ba19355c2e54e4faa0b62ebaf18ab7a",
            "396b9f88e08744c8883856130b7ae003"
          ],
          "base_uri": "https://localhost:8080/",
          "height": 17
        },
        "id": "532892e1",
        "outputId": "4c81a897-8f28-4b24-bf63-3d14dc4d2622"
      },
      "outputs": [
        {
          "output_type": "display_data",
          "data": {
            "text/plain": [
              "Loading checkpoint shards:   0%|          | 0/2 [00:00<?, ?it/s]"
            ],
            "application/vnd.jupyter.widget-view+json": {
              "version_major": 2,
              "version_minor": 0,
              "model_id": "129d2dbf711c42dd99f9c72d4f1201eb"
            }
          },
          "metadata": {}
        }
      ],
      "source": [
        "model = AutoModelForCausalLM.from_pretrained(model_id, device_map=\"auto\", load_in_4bit=True)"
      ]
    },
    {
      "cell_type": "code",
      "source": [
        "model"
      ],
      "metadata": {
        "colab": {
          "base_uri": "https://localhost:8080/"
        },
        "id": "JHnXxgkin1pl",
        "outputId": "04eb8aa2-1c30-44e2-bee9-dadc6a80a6ed"
      },
      "id": "JHnXxgkin1pl",
      "execution_count": 21,
      "outputs": [
        {
          "output_type": "execute_result",
          "data": {
            "text/plain": [
              "MistralForCausalLM(\n",
              "  (model): MistralModel(\n",
              "    (embed_tokens): Embedding(32000, 4096)\n",
              "    (layers): ModuleList(\n",
              "      (0-31): 32 x MistralDecoderLayer(\n",
              "        (self_attn): MistralSdpaAttention(\n",
              "          (q_proj): Linear4bit(in_features=4096, out_features=4096, bias=False)\n",
              "          (k_proj): Linear4bit(in_features=4096, out_features=1024, bias=False)\n",
              "          (v_proj): Linear4bit(in_features=4096, out_features=1024, bias=False)\n",
              "          (o_proj): Linear4bit(in_features=4096, out_features=4096, bias=False)\n",
              "          (rotary_emb): MistralRotaryEmbedding()\n",
              "        )\n",
              "        (mlp): MistralMLP(\n",
              "          (gate_proj): Linear4bit(in_features=4096, out_features=14336, bias=False)\n",
              "          (up_proj): Linear4bit(in_features=4096, out_features=14336, bias=False)\n",
              "          (down_proj): Linear4bit(in_features=14336, out_features=4096, bias=False)\n",
              "          (act_fn): SiLU()\n",
              "        )\n",
              "        (input_layernorm): MistralRMSNorm()\n",
              "        (post_attention_layernorm): MistralRMSNorm()\n",
              "      )\n",
              "    )\n",
              "    (norm): MistralRMSNorm()\n",
              "  )\n",
              "  (lm_head): Linear(in_features=4096, out_features=32000, bias=False)\n",
              ")"
            ]
          },
          "metadata": {},
          "execution_count": 21
        }
      ]
    },
    {
      "cell_type": "code",
      "source": [
        "from functools import partial\n",
        "from datasets import Dataset\n",
        "\n",
        "def gen_from_iterable_dataset(iterable_ds):\n",
        "    yield from iterable_ds\n",
        "\n",
        "test_set = Dataset.from_generator(partial(gen_from_iterable_dataset, test_ds), features=test_ds.features)"
      ],
      "metadata": {
        "id": "wGjmigVFq_oV"
      },
      "id": "wGjmigVFq_oV",
      "execution_count": 22,
      "outputs": []
    },
    {
      "cell_type": "code",
      "source": [
        "from transformers import pipeline"
      ],
      "metadata": {
        "id": "OVEJuZqIwZuY"
      },
      "id": "OVEJuZqIwZuY",
      "execution_count": 23,
      "outputs": []
    },
    {
      "cell_type": "code",
      "source": [
        "pipe = pipeline(task=\"text-generation\",model=model,tokenizer=tokenizer,max_length=10_000)"
      ],
      "metadata": {
        "id": "Os3H55_uwjRx"
      },
      "id": "Os3H55_uwjRx",
      "execution_count": 24,
      "outputs": []
    },
    {
      "cell_type": "code",
      "source": [
        "test_set[0][\"language\"]"
      ],
      "metadata": {
        "colab": {
          "base_uri": "https://localhost:8080/",
          "height": 35
        },
        "id": "x97WLW5g06GL",
        "outputId": "5387742f-56ed-4e65-8502-0dd997c0bbad"
      },
      "id": "x97WLW5g06GL",
      "execution_count": 34,
      "outputs": [
        {
          "output_type": "execute_result",
          "data": {
            "text/plain": [
              "'Java'"
            ],
            "application/vnd.google.colaboratory.intrinsic+json": {
              "type": "string"
            }
          },
          "metadata": {},
          "execution_count": 34
        }
      ]
    },
    {
      "cell_type": "code",
      "source": [
        "print(pipe(test_set[0][\"code\"])[0]['generated_text'])"
      ],
      "metadata": {
        "colab": {
          "base_uri": "https://localhost:8080/"
        },
        "id": "fMQPnUvixFcR",
        "outputId": "f1df5156-02a7-43d0-bfa3-8acf65e530be"
      },
      "id": "fMQPnUvixFcR",
      "execution_count": 33,
      "outputs": [
        {
          "output_type": "stream",
          "name": "stderr",
          "text": [
            "Setting `pad_token_id` to `eos_token_id`:2 for open-end generation.\n"
          ]
        },
        {
          "output_type": "stream",
          "name": "stdout",
          "text": [
            "/*\n",
            " * Copyright 2019 Google LLC\n",
            " *\n",
            " * Licensed under the Apache License, Version 2.0 (the \"License\");\n",
            " * you may not use this file except in compliance with the License.\n",
            " * You may obtain a copy of the License at\n",
            " *\n",
            " *     https://www.apache.org/licenses/LICENSE-2.0\n",
            " *\n",
            " * Unless required by applicable law or agreed to in writing, software\n",
            " * distributed under the License is distributed on an \"AS IS\" BASIS,\n",
            " * WITHOUT WARRANTIES OR CONDITIONS OF ANY KIND, either express or implied.\n",
            " * See the License for the specific language governing permissions and\n",
            " * limitations under the License.\n",
            " */\n",
            "package com.google.audio;\n",
            "\n",
            "import static com.google.common.base.Preconditions.checkArgument;\n",
            "\n",
            "import android.media.MediaCodec;\n",
            "import android.media.MediaCodecInfo;\n",
            "import android.media.MediaCodecList;\n",
            "import android.media.MediaFormat;\n",
            "import android.os.Build.VERSION;\n",
            "import android.os.Build.VERSION_CODES;\n",
            "import com.google.common.collect.ImmutableList;\n",
            "import com.google.common.flogger.FluentLogger;\n",
            "import java.io.ByteArrayOutputStream;\n",
            "import java.io.IOException;\n",
            "import java.nio.ByteBuffer;\n",
            "\n",
            "/**\n",
            " * Converts from uncompressed 16-bit PCM data to encoded data.\n",
            " *\n",
            " * <p>You may call the sequence (init, processAudioBytes, ..., processAudioBytes, flush, stop)\n",
            " * multiple times.\n",
            " *\n",
            " * <p>Note that AMR-WB encoding is mandatory for handheld devices and OggOpus is supported\n",
            " * regardless of device.\n",
            " */\n",
            "// Based on examples from https://developer.android.com/reference/android/media/MediaCodec\n",
            "// and some reference tests:\n",
            "// https://android.googlesource.com/platform/cts/+/jb-mr2-release/tests/tests/media/src/android/media/cts/EncoderTest.java\n",
            "public class StreamingAudioEncoder {\n",
            "  private static final FluentLogger logger = FluentLogger.forEnclosingClass();\n",
            "  private static final int BYTES_PER_SAMPLE = 2;\n",
            "\n",
            "  // This is not meaningful for OggOpus, which does not rely on the AndroidSystemEncoder.\n",
            "  private boolean useDeprecatedEncoder = false;\n",
            "\n",
            "  /** State variables for basic control flow management. */\n",
            "  private boolean flushed;\n",
            "\n",
            "  private boolean initialized = false;\n",
            "\n",
            "  /** An exception for anything that goes wrong with the coder as a result of misuse. */\n",
            "  public static class EncoderException extends Exception {\n",
            "    public EncoderException(String message) {\n",
            "      super(message);\n",
            "    }\n",
            "  }\n",
            "\n",
            "  /** Describes the general class of codecs. */\n",
            "  public enum CodecType {\n",
            "    UNSPECIFIED,\n",
            "    AMRWB,\n",
            "    FLAC,\n",
            "    OGG_OPUS,\n",
            "  }\n",
            "\n",
            "  CodecType codecType = CodecType.UNSPECIFIED;\n",
            "\n",
            "  private StreamingAudioInternalEncoder impl;\n",
            "\n",
            "  /** Creates an audio encoder. */\n",
            "  public StreamingAudioEncoder(boolean useDeprecatedEncoder) {\n",
            "    this.useDeprecatedEncoder = useDeprecatedEncoder;\n",
            "  }\n",
            "\n",
            "  public StreamingAudioEncoder() {\n",
            "    this(VERSION.SDK_INT <= VERSION_CODES.KITKAT_WATCH);\n",
            "  }\n",
            "\n",
            "  private interface StreamingAudioInternalEncoder {\n",
            "    void init(int sampleRateHz, CodecAndBitrate codecAndBitrate, boolean useVbr)\n",
            "        throws EncoderException, IOException;\n",
            "\n",
            "    byte[] processAudioBytes(byte[] input, int offset, int length);\n",
            "\n",
            "    byte[] flushAndStop();\n",
            "  }\n",
            "\n",
            "  /**\n",
            "   * Prepares a codec to stream. This may be called only if instance is uninitialized (prior to a\n",
            "   * call to init() or after a call to stop()).\n",
            "   *\n",
            "   * @throws IOException if codec cannot be created.\n",
            "   * @throws EncoderException if sample rate is not 16kHz or if no suitable encoder exists on device\n",
            "   *     for the requested format.\n",
            "   */\n",
            "  public void init(int sampleRateHz, CodecAndBitrate codecAndBitrate, boolean allowVbr)\n",
            "      throws EncoderException, IOException {\n",
            "    codecType = lookupCodecType(codecAndBitrate);\n",
            "\n",
            "    if (codecType == CodecType.OGG_OPUS) {\n",
            "      impl = new OggOpusEncoder();\n",
            "    } else {\n",
            "      impl = new AndroidSystemEncoder(useDeprecatedEncoder);\n",
            "    }\n",
            "    impl.init(sampleRateHz, codecAndBitrate, allowVbr);\n",
            "    initialized = true;\n",
            "    flushed = false;\n",
            "  }\n",
            "\n",
            "  /**\n",
            "   * Encodes 16-bit PCM audio. This will not always return bytes and will block until the codec has\n",
            "   * no output to offer. Must be called after init().\n",
            "   *\n",
            "   * @param input array of audio samples formatted as raw bytes (i.e., two bytes per sample). buffer\n",
            "   *     may be of any size.\n",
            "   * @param offset the offset of the first byte to process\n",
            "   * @param length the number of bytes to process from input\n",
            "   * @return bytes of compressed audio\n",
            "   */\n",
            "  public byte[] processAudioBytes(byte[] input, int offset, int length) {\n",
            "    if (!initialized) {\n",
            "      throw new IllegalStateException(\"You forgot to call init()!\");\n",
            "    }\n",
            "    if (flushed) {\n",
            "      throw new IllegalStateException(\"Cannot process more bytes after flushing.\");\n",
            "    }\n",
            "    return impl.processAudioBytes(input, offset, length);\n",
            "  }\n",
            "\n",
            "  public byte[] processAudioBytes(byte[] input) {\n",
            "    return processAudioBytes(input, 0, input.length);\n",
            "  }\n",
            "\n",
            "  /** Stop the codec. Call init() before using again. */\n",
            "  public byte[] flushAndStop() {\n",
            "    if (!initialized) {\n",
            "      throw new IllegalStateException(\"You forgot to call init()!\");\n",
            "    }\n",
            "    if (flushed) {\n",
            "      throw new IllegalStateException(\"Already flushed. You must reinitialize.\");\n",
            "    }\n",
            "    flushed = true;\n",
            "    byte[] flushedBytes = impl.flushAndStop();\n",
            "    initialized = false;\n",
            "    codecType = CodecType.UNSPECIFIED;\n",
            "    return flushedBytes;\n",
            "  }\n",
            "\n",
            "  /**\n",
            "   * Can be used to test if codec will work or not on a given device. This will always return the\n",
            "   * same value no matter when you call it.\n",
            "   */\n",
            "  public static boolean isEncoderSupported(CodecAndBitrate encoderInfo) {\n",
            "    CodecType type = lookupCodecType(encoderInfo);\n",
            "    if (type == CodecType.OGG_OPUS) { // We support Opus directly via the OggOpusEncoder class.\n",
            "      return true;\n",
            "    }\n",
            "    return searchAmongAndroidSupportedCodecs(getMime(type)) != null;\n",
            "  }\n",
            "\n",
            "  public CodecType getCodecType() {\n",
            "    return codecType;\n",
            "  }\n",
            "\n",
            "  private static String getMime(CodecType codecAndBitrate) {\n",
            "    // MediaFormat.MIMETYPE_AUDIO_AMR_WB requires SDK >= 21.\n",
            "    switch (codecAndBitrate) {\n",
            "      case AMRWB:\n",
            "        return \"audio/amr-wb\";\n",
            "      case FLAC:\n",
            "        return \"audio/flac\";\n",
            "      case OGG_OPUS: // Not supported by android system, so we don't need a MIME.\n",
            "      case UNSPECIFIED:\n",
            "        return \"\";\n",
            "    }\n",
            "    return \"\";\n",
            "  }\n",
            "\n",
            "  private static CodecType lookupCodecType(CodecAndBitrate codecAndBitrate) {\n",
            "    switch (codecAndBitrate) {\n",
            "      case AMRWB_BITRATE_6KBPS:\n",
            "      case AMRWB_BITRATE_8KBPS:\n",
            "      case AMRWB_BITRATE_12KBPS:\n",
            "      case AMRWB_BITRATE_14KBPS:\n",
            "      case AMRWB_BITRATE_15KBPS:\n",
            "      case AMRWB_BITRATE_18KBPS:\n",
            "      case AMRWB_BITRATE_19KBPS:\n",
            "      case AMRWB_BITRATE_23KBPS:\n",
            "      case AMRWB_BITRATE_24KBPS:\n",
            "        return CodecType.AMRWB;\n",
            "      case FLAC:\n",
            "        return CodecType.FLAC;\n",
            "      case OGG_OPUS_BITRATE_12KBPS:\n",
            "      case OGG_OPUS_BITRATE_16KBPS:\n",
            "      case OGG_OPUS_BITRATE_24KBPS:\n",
            "      case OGG_OPUS_BITRATE_32KBPS:\n",
            "      case OGG_OPUS_BITRATE_64KBPS:\n",
            "      case OGG_OPUS_BITRATE_96KBPS:\n",
            "      case OGG_OPUS_BITRATE_128KBPS:\n",
            "        return CodecType.OGG_OPUS;\n",
            "      case UNDEFINED:\n",
            "        return CodecType.UNSPECIFIED;\n",
            "    }\n",
            "    return CodecType.UNSPECIFIED;\n",
            "  }\n",
            "\n",
            "  /**\n",
            "   * Searches for a codec that implements the requested format conversion. Android framework encoder\n",
            "   * only.\n",
            "   */\n",
            "  private static MediaCodecInfo searchAmongAndroidSupportedCodecs(String mimeType) {\n",
            "    int numCodecs = MediaCodecList.getCodecCount();\n",
            "    for (int i = 0; i < numCodecs; i++) {\n",
            "      MediaCodecInfo codecAndBitrate = MediaCodecList.getCodecInfoAt(i);\n",
            "      if (!codecAndBitrate.isEncoder()) {\n",
            "        continue;\n",
            "      }\n",
            "      String[] codecTypes = codecAndBitrate.getSupportedTypes();\n",
            "      for (int j = 0; j < codecTypes.length; j++) {\n",
            "        if (codecTypes[j].equalsIgnoreCase(mimeType)) {\n",
            "          return codecAndBitrate;\n",
            "        }\n",
            "      }\n",
            "    }\n",
            "    return null;\n",
            "  }\n",
            "\n",
            "  /** An encoder that relies on the Android framework's multimedia encoder. */\n",
            "  private static class AndroidSystemEncoder implements StreamingAudioInternalEncoder {\n",
            "    // If we can't supply a buffer immediately, we wait until the next one, which is timed at the\n",
            "    // microphone & block rate of the audio supplier. Waiting less than that time and getting\n",
            "    // samples\n",
            "    // before the next input buffer would reduce latency.\n",
            "    private static final long WAIT_TIME_MICROSECONDS = 1000; // Joda doesn't support microseconds.\n",
            "    /**\n",
            "     * Notes when the codec formatting change has occurred. This should happen only once at the\n",
            "     * start of streaming. Otherwise, there is an error.\n",
            "     */\n",
            "    private boolean formatChangeReportedOnce;\n",
            "\n",
            "    private MediaCodec codec;\n",
            "    private boolean useDeprecatedEncoder = false;\n",
            "    private CodecType codecType;\n",
            "    private int sampleRateHz;\n",
            "\n",
            "    /** Prevents trying to flush multiple times. */\n",
            "    private boolean successfullyFlushed;\n",
            "\n",
            "    /** Keeps track of whether the header was injected into the stream. */\n",
            "    private boolean addedHeader;\n",
            "\n",
            "    /**\n",
            "     * The number of samples that are passed to the underlying codec at once. It's not clear that\n",
            "     * one value for this will work better than any other, but powers of two are usually fast, and a\n",
            "     * larger CHUNK_SIZE_SAMPLES both reduces the number of buffers we have to wait for and doesn't\n",
            "     * prevent sending smaller blocks of samples.\n",
            "     */\n",
            "    private static final int CHUNK_SIZE_SAMPLES = 2048;\n",
            "\n",
            "    private static final int CHUNK_SIZE_BYTES = BYTES_PER_SAMPLE * CHUNK_SIZE_SAMPLES;\n",
            "\n",
            "    // Used only on very old SDKs (pre VERSION_CODES.KITKAT_WATCH).\n",
            "    private ByteBuffer[] inputBuffersPreKitKat;\n",
            "    private ByteBuffer[] outputBuffersPreKitKat;\n",
            "\n",
            "    /** Creates an audio encoder. */\n",
            "    public AndroidSystemEncoder(boolean useDeprecatedEncoder) {\n",
            "      this.useDeprecatedEncoder = useDeprecatedEncoder;\n",
            "      this.codecType = CodecType.UNSPECIFIED;\n",
            "    }\n",
            "\n",
            "    // Note that VBR is not currently supported for the AndroidStreamingEncoder.\n",
            "    @Override\n",
            "    public void init(int sampleRateHz, CodecAndBitrate codecAndBitrate, boolean allowVbr)\n",
            "        throws EncoderException, IOException {\n",
            "      codecType = lookupCodecType(codecAndBitrate);\n",
            "      if (codecType == CodecType.UNSPECIFIED || codecType == CodecType.OGG_OPUS) {\n",
            "        throw new EncoderException(\"Codec not set properly.\");\n",
            "      }\n",
            "      if (codecType == CodecType.AMRWB && sampleRateHz != 16000) {\n",
            "        throw new EncoderException(\"AMR-WB encoder requires a sample rate of 16kHz.\");\n",
            "      }\n",
            "      MediaCodecInfo codecInfo = searchAmongAndroidSupportedCodecs(getMime(codecType));\n",
            "      if (codecInfo == null) {\n",
            "        throw new EncoderException(\"Encoder not found.\");\n",
            "      }\n",
            "      this.codec = MediaCodec.createByCodecName(codecInfo.getName());\n",
            "\n",
            "      MediaFormat format = getMediaFormat(codecAndBitrate, sampleRateHz);\n",
            "      codec.configure(format, null, null, MediaCodec.CONFIGURE_FLAG_ENCODE);\n",
            "      codec.start();\n",
            "      initBuffers();\n",
            "\n",
            "      addedHeader = false;\n",
            "      successfullyFlushed = false;\n",
            "      formatChangeReportedOnce = false;\n",
            "    }\n",
            "\n",
            "    @Override\n",
            "    public byte[] processAudioBytes(byte[] input, int offset, int length) {\n",
            "      ByteArrayOutputStream outputBytes = new ByteArrayOutputStream();\n",
            "      if (!addedHeader) {\n",
            "        try {\n",
            "          outputBytes.write(getHeaderBytes());\n",
            "        } catch (IOException e) {\n",
            "          logger.atSevere().log(\"Unable to write bytes into buffer!\");\n",
            "        }\n",
            "        addedHeader = true;\n",
            "      }\n",
            "      int startByte = 0;\n",
            "      while (startByte < length) {\n",
            "        int thisChunkSizeBytes = Math.min(CHUNK_SIZE_BYTES, length - startByte);\n",
            "        processAudioBytesInternal(\n",
            "            input, offset + startByte, thisChunkSizeBytes, false, outputBytes);\n",
            "        startByte += thisChunkSizeBytes;\n",
            "      }\n",
            "      return outputBytes.toByteArray();\n",
            "    }\n",
            "\n",
            "    @Override\n",
            "    public byte[] flushAndStop() {\n",
            "      ByteArrayOutputStream outputBytes = new ByteArrayOutputStream();\n",
            "      try {\n",
            "        processAudioBytesInternal(null, 0, 0, true, outputBytes);  // Flush!\n",
            "        codec.stop();\n",
            "      } catch (MediaCodec.CodecException e) {\n",
            "        logger.atSevere().log(\"Something went wrong in the underlying codec!\");\n",
            "      }\n",
            "      codec.release();\n",
            "      return outputBytes.toByteArray();\n",
            "    }\n",
            "\n",
            "    // length must be less than or equal to CHUNK_SIZE_BYTES.\n",
            "    private void processAudioBytesInternal(\n",
            "        byte[] input, int offset, int length, boolean flush, ByteArrayOutputStream outputBytes) {\n",
            "      checkArgument(\n",
            "          length <= CHUNK_SIZE_BYTES, \"length must be less than or equal to CHUNK_SIZE_BYTES!\");\n",
            "      boolean processedInput = false;\n",
            "      // There are a limited number of buffers allocated in the codec. As long as we're not\n",
            "      // holding on to them, they should always be available. Sometimes all buffers will be occupied\n",
            "      // by the output and we need to process them before pushing input. Sometimes multiple output\n",
            "      // buffers will be available at once. Append them together and return. It is common for\n",
            "      // outputBytes to not receive any samples upon returning.\n",
            "      MediaCodec.BufferInfo bufferInfo = new MediaCodec.BufferInfo();\n",
            "      // Loop until input is processed and outputs are unavailable.\n",
            "      while (!processedInput || flush) {\n",
            "        if (!processedInput) {\n",
            "          if (flush && successfullyFlushed) {\n",
            "            throw new IllegalStateException(\"Already flushed!\");\n",
            "          }\n",
            "          // Push the input only once.\n",
            "          int inputBufferIndex = codec.dequeueInputBuffer(WAIT_TIME_MICROSECONDS);\n",
            "          if (inputBufferIndex != MediaCodec.INFO_TRY_AGAIN_LATER) {\n",
            "            if (flush) {\n",
            "              // Signal that the input stream is complete.\n",
            "              codec.queueInputBuffer(\n",
            "                  inputBufferIndex, 0, 0, 0, MediaCodec.BUFFER_FLAG_END_OF_STREAM);\n",
            "              successfullyFlushed = true;\n",
            "            } else {\n",
            "              // Push audio data into the codec.\n",
            "              ByteBuffer inputBuffer = getInputBuffer(inputBufferIndex);\n",
            "              inputBuffer.put(input, offset, length);\n",
            "              codec.queueInputBuffer(inputBufferIndex, 0, length, 0, 0);\n",
            "            }\n",
            "            processedInput = true;\n",
            "          }\n",
            "        }\n",
            "        // See if outputs are available.\n",
            "        int outputBufferIndex = codec.dequeueOutputBuffer(bufferInfo, WAIT_TIME_MICROSECONDS);\n",
            "        if (outputBufferIndex == MediaCodec.INFO_TRY_AGAIN_LATER) {\n",
            "          // There will not be an output buffer for every input buffer.\n",
            "        } else if (outputBufferIndex == MediaCodec.INFO_OUTPUT_FORMAT_CHANGED) {\n",
            "          // Shouldn't happen after the very first output.\n",
            "          if (formatChangeReportedOnce) {\n",
            "            throw new IllegalStateException(\"The codec format was unexpectedly changed.\");\n",
            "          }\n",
            "          formatChangeReportedOnce = true;\n",
            "        } else if (outputBufferIndex == MediaCodec.INFO_OUTPUT_BUFFERS_CHANGED) {\n",
            "          // Shouldn't happen for SDK > 21.\n",
            "          updateOutputBuffers();\n",
            "        } else {\n",
            "          // Get an output buffer and add it to the stream.\n",
            "          ByteBuffer outputBuffer = getOutputBuffer(outputBufferIndex);\n",
            "          byte[] outData = new byte[bufferInfo.size];\n",
            "          outputBuffer.get(outData);\n",
            "          codec.releaseOutputBuffer(outputBufferIndex, false);\n",
            "          try {\n",
            "            outputBytes.write(outData);\n",
            "          } catch (IOException e) {\n",
            "            logger.atSevere().log(\"Unable to write bytes into buffer!\");\n",
            "          }\n",
            "        }\n",
            "\n",
            "        boolean processedAllOutput = (bufferInfo.flags & MediaCodec.BUFFER_FLAG_END_OF_STREAM) != 0;\n",
            "        if (processedAllOutput) {\n",
            "          if (!processedInput) {\n",
            "            throw new IllegalStateException(\"Didn't process input yet.\");\n",
            "          }\n",
            "          break;\n",
            "        }\n",
            "      }\n",
            "    }\n",
            "\n",
            "    /** Configure the codec at a specified bitrate for a fixed sample block size. */\n",
            "    private static MediaFormat getMediaFormat(CodecAndBitrate codecAndBitrate, int sampleRateHz) {\n",
            "      MediaFormat format = new MediaFormat();\n",
            "      CodecType codecType = lookupCodecType(codecAndBitrate);\n",
            "      format.setString(MediaFormat.KEY_MIME, getMime(codecType));\n",
            "      format.setInteger(MediaFormat.KEY_SAMPLE_RATE, sampleRateHz);\n",
            "      format.setInteger(MediaFormat.KEY_CHANNEL_COUNT, 1);\n",
            "      format.setInteger(MediaFormat.KEY_MAX_INPUT_SIZE, BYTES_PER_SAMPLE * CHUNK_SIZE_SAMPLES);\n",
            "      if (codecType != CodecType.FLAC) {\n",
            "        // FLAC is lossless, we can't request a bitrate.\n",
            "        format.setInteger(MediaFormat.KEY_BIT_RATE, codecAndBitrate.getNumber());\n",
            "      }\n",
            "      return format;\n",
            "    }\n",
            "\n",
            "    /** The data does not include a header. Some applications will require one anyhow. */\n",
            "    private byte[] getHeaderBytes() {\n",
            "      switch (this.codecType) {\n",
            "        case AMRWB:\n",
            "          String amrWbHeader = \"#!AMR-WB\\n\";\n",
            "          return amrWbHeader.getBytes();\n",
            "        case FLAC:\n",
            "          byte[] noHeader = new byte[0];\n",
            "          return noHeader;\n",
            "        case OGG_OPUS:\n",
            "          throw new IllegalStateException(\"Should never happen! Use OggOpusEncoder instead.\");\n",
            "        case UNSPECIFIED:\n",
            "          throw new IllegalStateException(\"Trying to make header for unspecified codec!\");\n",
            "      }\n",
            "      return null;\n",
            "    }\n",
            "\n",
            "    // The following methods are used to resolve differences between SDK versions.\n",
            "\n",
            "    private void initBuffers() {\n",
            "      if (useDeprecatedEncoder) {\n",
            "        inputBuffersPreKitKat = codec.getInputBuffers();\n",
            "        outputBuffersPreKitKat = codec.getOutputBuffers();\n",
            "      }\n",
            "    }\n",
            "\n",
            "    private ByteBuffer getInputBuffer(int index) {\n",
            "      if (useDeprecatedEncoder) {\n",
            "        return inputBuffersPreKitKat[index];\n",
            "      } else {\n",
            "        return codec.getInputBuffer(index);\n",
            "      }\n",
            "    }\n",
            "\n",
            "    private ByteBuffer getOutputBuffer(int index) {\n",
            "      if (useDeprecatedEncoder) {\n",
            "        return outputBuffersPreKitKat[index];\n",
            "      } else {\n",
            "        return codec.getOutputBuffer(index);\n",
            "      }\n",
            "    }\n",
            "\n",
            "    private void updateOutputBuffers() {\n",
            "      if (useDeprecatedEncoder) {\n",
            "        outputBuffersPreKitKat = codec.getOutputBuffers();\n",
            "      }\n",
            "    }\n",
            "  }\n",
            "\n",
            "  private static class OggOpusEncoder implements StreamingAudioInternalEncoder {\n",
            "    // This is a pointer to the native object that we're working with. Zero when unallocated.\n",
            "    private long instance = 0;\n",
            "\n",
            "    ImmutableList<Integer> validSampleRates = ImmutableList.of(8000, 12000, 16000, 24000, 48000);\n",
            "    public OggOpusEncoder() {}\n",
            "\n",
            "    @Override\n",
            "    public void init(int sampleRateHz, CodecAndBitrate codecAndBitrate, boolean allowVbr)\n",
            "        throws EncoderException {\n",
            "      if (instance != 0) {\n",
            "        flushAndStop();\n",
            "      }\n",
            "      CodecType codecType = lookupCodecType(codecAndBitrate);\n",
            "      if (codecType != CodecType.OGG_OPUS) {\n",
            "        throw new RuntimeException(\"Made OggOpusEncoder for non OGG_OPUS encoding type.\");\n",
            "      }\n",
            "      if (!validSampleRates.contains(sampleRateHz)) {\n",
            "        throw new EncoderException(\n",
            "            \"Opus encoder requires a sample rate of 8kHz, 12kHz, 16kHz, 24kHz, or 48kHz.\");\n",
            "      }\n",
            "      this.instance =\n",
            "          init(1 /* Mono audio. */, codecAndBitrate.getNumber(), sampleRateHz, allowVbr);\n",
            "    }\n",
            "\n",
            "    private native long init(int channels, int bitrate, int sampleRateHz, boolean allowVbr);\n",
            "\n",
            "    @Override\n",
            "    public byte[] processAudioBytes(byte[] bytes, int offset, int length) {\n",
            "      return processAudioBytes(instance, bytes, offset, length);\n",
            "    }\n",
            "\n",
            "    private native byte[] processAudioBytes(long instance, byte[] samples, int offset, int length);\n",
            "\n",
            "    /**\n",
            "     * Complete the input stream, return any remaining bits of the output stream, and stop.\n",
            "     * This should only be called once. Must be called after init().\n",
            "     *\n",
            "     * @return bytes of compressed audio\n",
            "     */\n",
            "    @Override\n",
            "    public byte[] flushAndStop() {\n",
            "      if (instance != 0) {\n",
            "        byte[] flushedBytes = flush(instance);\n",
            "        free(instance);\n",
            "        instance = 0;\n",
            "        return flushedBytes;\n",
            "      } else {\n",
            "        logger.atSevere().log(\"stop() called multiple times or without call to init()!\");\n",
            "        return new byte[0];\n",
            "      }\n",
            "    }\n",
            "\n",
            "    @Override\n",
            "    protected void finalize() throws Throwable {\n",
            "      super.finalize();\n",
            "      if (instance != 0) {\n",
            "        logger.atSevere().log(\n",
            "            \"Native OggOpusEncoder resources weren't cleaned up. You must call stop()!\");\n",
            "        free(instance);\n",
            "      }\n",
            "    }\n",
            "\n",
            "    private native byte[] flush(long instance);\n",
            "    private native void free(long instance);\n",
            "  }\n",
            "\n",
            "  static {\n",
            "    System.loadLibrary(\"ogg_opus_encoder\");\n",
            "  }\n",
            "}\n",
            "\n",
            "// [END android_streaming_audio_encoder]\n"
          ]
        }
      ]
    },
    {
      "cell_type": "code",
      "execution_count": null,
      "id": "d69bb057",
      "metadata": {
        "id": "d69bb057",
        "colab": {
          "base_uri": "https://localhost:8080/"
        },
        "outputId": "0b546ffa-0e8d-4082-ec08-c0f940eecf41"
      },
      "outputs": [
        {
          "output_type": "stream",
          "name": "stderr",
          "text": [
            "Setting `pad_token_id` to `eos_token_id`:2 for open-end generation.\n",
            "Setting `pad_token_id` to `eos_token_id`:2 for open-end generation.\n",
            "Setting `pad_token_id` to `eos_token_id`:2 for open-end generation.\n"
          ]
        }
      ],
      "source": [
        "results = task_evaluator.compute(model_or_pipeline=pipe,#model,\n",
        "                          #tokenizer=tokenizer,\n",
        "                          data=test_set,\n",
        "                          metric=metric,\n",
        "                          random_state=seed,\n",
        "                          input_column=\"code\")"
      ]
    },
    {
      "cell_type": "markdown",
      "id": "4d52a229",
      "metadata": {
        "id": "4d52a229"
      },
      "source": [
        "## Performing Parameter-Efficient Fine-Tuning\n",
        "\n",
        "TODO: In the cells below, create a PEFT model from your loaded model, run a training loop, and save the PEFT model weights."
      ]
    },
    {
      "cell_type": "code",
      "execution_count": null,
      "id": "5775fadf",
      "metadata": {
        "id": "5775fadf"
      },
      "outputs": [],
      "source": []
    },
    {
      "cell_type": "code",
      "execution_count": null,
      "id": "894046c0",
      "metadata": {
        "id": "894046c0"
      },
      "outputs": [],
      "source": []
    },
    {
      "cell_type": "code",
      "execution_count": null,
      "id": "c4d4c908",
      "metadata": {
        "id": "c4d4c908"
      },
      "outputs": [],
      "source": []
    },
    {
      "cell_type": "code",
      "execution_count": null,
      "id": "b47abf88",
      "metadata": {
        "id": "b47abf88"
      },
      "outputs": [],
      "source": []
    },
    {
      "cell_type": "code",
      "execution_count": null,
      "id": "fa7fe003",
      "metadata": {
        "id": "fa7fe003"
      },
      "outputs": [],
      "source": []
    },
    {
      "cell_type": "markdown",
      "id": "615b12c6",
      "metadata": {
        "id": "615b12c6"
      },
      "source": [
        "## Performing Inference with a PEFT Model\n",
        "\n",
        "TODO: In the cells below, load the saved PEFT model weights and evaluate the performance of the trained PEFT model. Be sure to compare the results to the results from prior to fine-tuning."
      ]
    },
    {
      "cell_type": "code",
      "execution_count": null,
      "id": "863ec66e",
      "metadata": {
        "id": "863ec66e"
      },
      "outputs": [],
      "source": []
    },
    {
      "cell_type": "code",
      "execution_count": null,
      "id": "bc3a8147",
      "metadata": {
        "id": "bc3a8147"
      },
      "outputs": [],
      "source": []
    },
    {
      "cell_type": "code",
      "execution_count": null,
      "id": "bc96905a",
      "metadata": {
        "id": "bc96905a"
      },
      "outputs": [],
      "source": []
    },
    {
      "cell_type": "code",
      "execution_count": null,
      "id": "866ab28c",
      "metadata": {
        "id": "866ab28c"
      },
      "outputs": [],
      "source": []
    },
    {
      "cell_type": "code",
      "execution_count": null,
      "id": "f9a32e4e",
      "metadata": {
        "id": "f9a32e4e"
      },
      "outputs": [],
      "source": []
    }
  ],
  "metadata": {
    "kernelspec": {
      "display_name": "Python 3",
      "name": "python3"
    },
    "language_info": {
      "codemirror_mode": {
        "name": "ipython",
        "version": 3
      },
      "file_extension": ".py",
      "mimetype": "text/x-python",
      "name": "python",
      "nbconvert_exporter": "python",
      "pygments_lexer": "ipython3",
      "version": "3.10.11"
    },
    "colab": {
      "provenance": [],
      "gpuType": "T4"
    },
    "accelerator": "GPU",
    "widgets": {
      "application/vnd.jupyter.widget-state+json": {
        "129d2dbf711c42dd99f9c72d4f1201eb": {
          "model_module": "@jupyter-widgets/controls",
          "model_name": "HBoxModel",
          "model_module_version": "2.0.0",
          "state": {
            "_dom_classes": [],
            "_model_module": "@jupyter-widgets/controls",
            "_model_module_version": "2.0.0",
            "_model_name": "HBoxModel",
            "_view_count": null,
            "_view_module": "@jupyter-widgets/controls",
            "_view_module_version": "2.0.0",
            "_view_name": "HBoxView",
            "box_style": "",
            "children": [
              "IPY_MODEL_afe9cd925cda490b9026987a3781dbde",
              "IPY_MODEL_398d13b67bc44b7698207f760d0e386f",
              "IPY_MODEL_a219669e476540c48b4070583b6bab66"
            ],
            "layout": "IPY_MODEL_4acaa70088fd4400a290910d3f0054cd",
            "tabbable": null,
            "tooltip": null
          }
        },
        "afe9cd925cda490b9026987a3781dbde": {
          "model_module": "@jupyter-widgets/controls",
          "model_name": "HTMLModel",
          "model_module_version": "2.0.0",
          "state": {
            "_dom_classes": [],
            "_model_module": "@jupyter-widgets/controls",
            "_model_module_version": "2.0.0",
            "_model_name": "HTMLModel",
            "_view_count": null,
            "_view_module": "@jupyter-widgets/controls",
            "_view_module_version": "2.0.0",
            "_view_name": "HTMLView",
            "description": "",
            "description_allow_html": false,
            "layout": "IPY_MODEL_410e8eb0379d44879cde49e75385ea1b",
            "placeholder": "​",
            "style": "IPY_MODEL_c8efcac1d0f84c959f913ba547237d88",
            "tabbable": null,
            "tooltip": null,
            "value": "Loading checkpoint shards: 100%"
          }
        },
        "398d13b67bc44b7698207f760d0e386f": {
          "model_module": "@jupyter-widgets/controls",
          "model_name": "FloatProgressModel",
          "model_module_version": "2.0.0",
          "state": {
            "_dom_classes": [],
            "_model_module": "@jupyter-widgets/controls",
            "_model_module_version": "2.0.0",
            "_model_name": "FloatProgressModel",
            "_view_count": null,
            "_view_module": "@jupyter-widgets/controls",
            "_view_module_version": "2.0.0",
            "_view_name": "ProgressView",
            "bar_style": "success",
            "description": "",
            "description_allow_html": false,
            "layout": "IPY_MODEL_2a7350b5998c414ba4ff3da8337e372e",
            "max": 2,
            "min": 0,
            "orientation": "horizontal",
            "style": "IPY_MODEL_ebb1bf3ee9f44513bf3c622fa0fab69c",
            "tabbable": null,
            "tooltip": null,
            "value": 2
          }
        },
        "a219669e476540c48b4070583b6bab66": {
          "model_module": "@jupyter-widgets/controls",
          "model_name": "HTMLModel",
          "model_module_version": "2.0.0",
          "state": {
            "_dom_classes": [],
            "_model_module": "@jupyter-widgets/controls",
            "_model_module_version": "2.0.0",
            "_model_name": "HTMLModel",
            "_view_count": null,
            "_view_module": "@jupyter-widgets/controls",
            "_view_module_version": "2.0.0",
            "_view_name": "HTMLView",
            "description": "",
            "description_allow_html": false,
            "layout": "IPY_MODEL_3ba19355c2e54e4faa0b62ebaf18ab7a",
            "placeholder": "​",
            "style": "IPY_MODEL_396b9f88e08744c8883856130b7ae003",
            "tabbable": null,
            "tooltip": null,
            "value": " 2/2 [01:12&lt;00:00, 33.75s/it]"
          }
        },
        "4acaa70088fd4400a290910d3f0054cd": {
          "model_module": "@jupyter-widgets/base",
          "model_name": "LayoutModel",
          "model_module_version": "2.0.0",
          "state": {
            "_model_module": "@jupyter-widgets/base",
            "_model_module_version": "2.0.0",
            "_model_name": "LayoutModel",
            "_view_count": null,
            "_view_module": "@jupyter-widgets/base",
            "_view_module_version": "2.0.0",
            "_view_name": "LayoutView",
            "align_content": null,
            "align_items": null,
            "align_self": null,
            "border_bottom": null,
            "border_left": null,
            "border_right": null,
            "border_top": null,
            "bottom": null,
            "display": null,
            "flex": null,
            "flex_flow": null,
            "grid_area": null,
            "grid_auto_columns": null,
            "grid_auto_flow": null,
            "grid_auto_rows": null,
            "grid_column": null,
            "grid_gap": null,
            "grid_row": null,
            "grid_template_areas": null,
            "grid_template_columns": null,
            "grid_template_rows": null,
            "height": null,
            "justify_content": null,
            "justify_items": null,
            "left": null,
            "margin": null,
            "max_height": null,
            "max_width": null,
            "min_height": null,
            "min_width": null,
            "object_fit": null,
            "object_position": null,
            "order": null,
            "overflow": null,
            "padding": null,
            "right": null,
            "top": null,
            "visibility": null,
            "width": null
          }
        },
        "410e8eb0379d44879cde49e75385ea1b": {
          "model_module": "@jupyter-widgets/base",
          "model_name": "LayoutModel",
          "model_module_version": "2.0.0",
          "state": {
            "_model_module": "@jupyter-widgets/base",
            "_model_module_version": "2.0.0",
            "_model_name": "LayoutModel",
            "_view_count": null,
            "_view_module": "@jupyter-widgets/base",
            "_view_module_version": "2.0.0",
            "_view_name": "LayoutView",
            "align_content": null,
            "align_items": null,
            "align_self": null,
            "border_bottom": null,
            "border_left": null,
            "border_right": null,
            "border_top": null,
            "bottom": null,
            "display": null,
            "flex": null,
            "flex_flow": null,
            "grid_area": null,
            "grid_auto_columns": null,
            "grid_auto_flow": null,
            "grid_auto_rows": null,
            "grid_column": null,
            "grid_gap": null,
            "grid_row": null,
            "grid_template_areas": null,
            "grid_template_columns": null,
            "grid_template_rows": null,
            "height": null,
            "justify_content": null,
            "justify_items": null,
            "left": null,
            "margin": null,
            "max_height": null,
            "max_width": null,
            "min_height": null,
            "min_width": null,
            "object_fit": null,
            "object_position": null,
            "order": null,
            "overflow": null,
            "padding": null,
            "right": null,
            "top": null,
            "visibility": null,
            "width": null
          }
        },
        "c8efcac1d0f84c959f913ba547237d88": {
          "model_module": "@jupyter-widgets/controls",
          "model_name": "HTMLStyleModel",
          "model_module_version": "2.0.0",
          "state": {
            "_model_module": "@jupyter-widgets/controls",
            "_model_module_version": "2.0.0",
            "_model_name": "HTMLStyleModel",
            "_view_count": null,
            "_view_module": "@jupyter-widgets/base",
            "_view_module_version": "2.0.0",
            "_view_name": "StyleView",
            "background": null,
            "description_width": "",
            "font_size": null,
            "text_color": null
          }
        },
        "2a7350b5998c414ba4ff3da8337e372e": {
          "model_module": "@jupyter-widgets/base",
          "model_name": "LayoutModel",
          "model_module_version": "2.0.0",
          "state": {
            "_model_module": "@jupyter-widgets/base",
            "_model_module_version": "2.0.0",
            "_model_name": "LayoutModel",
            "_view_count": null,
            "_view_module": "@jupyter-widgets/base",
            "_view_module_version": "2.0.0",
            "_view_name": "LayoutView",
            "align_content": null,
            "align_items": null,
            "align_self": null,
            "border_bottom": null,
            "border_left": null,
            "border_right": null,
            "border_top": null,
            "bottom": null,
            "display": null,
            "flex": null,
            "flex_flow": null,
            "grid_area": null,
            "grid_auto_columns": null,
            "grid_auto_flow": null,
            "grid_auto_rows": null,
            "grid_column": null,
            "grid_gap": null,
            "grid_row": null,
            "grid_template_areas": null,
            "grid_template_columns": null,
            "grid_template_rows": null,
            "height": null,
            "justify_content": null,
            "justify_items": null,
            "left": null,
            "margin": null,
            "max_height": null,
            "max_width": null,
            "min_height": null,
            "min_width": null,
            "object_fit": null,
            "object_position": null,
            "order": null,
            "overflow": null,
            "padding": null,
            "right": null,
            "top": null,
            "visibility": null,
            "width": null
          }
        },
        "ebb1bf3ee9f44513bf3c622fa0fab69c": {
          "model_module": "@jupyter-widgets/controls",
          "model_name": "ProgressStyleModel",
          "model_module_version": "2.0.0",
          "state": {
            "_model_module": "@jupyter-widgets/controls",
            "_model_module_version": "2.0.0",
            "_model_name": "ProgressStyleModel",
            "_view_count": null,
            "_view_module": "@jupyter-widgets/base",
            "_view_module_version": "2.0.0",
            "_view_name": "StyleView",
            "bar_color": null,
            "description_width": ""
          }
        },
        "3ba19355c2e54e4faa0b62ebaf18ab7a": {
          "model_module": "@jupyter-widgets/base",
          "model_name": "LayoutModel",
          "model_module_version": "2.0.0",
          "state": {
            "_model_module": "@jupyter-widgets/base",
            "_model_module_version": "2.0.0",
            "_model_name": "LayoutModel",
            "_view_count": null,
            "_view_module": "@jupyter-widgets/base",
            "_view_module_version": "2.0.0",
            "_view_name": "LayoutView",
            "align_content": null,
            "align_items": null,
            "align_self": null,
            "border_bottom": null,
            "border_left": null,
            "border_right": null,
            "border_top": null,
            "bottom": null,
            "display": null,
            "flex": null,
            "flex_flow": null,
            "grid_area": null,
            "grid_auto_columns": null,
            "grid_auto_flow": null,
            "grid_auto_rows": null,
            "grid_column": null,
            "grid_gap": null,
            "grid_row": null,
            "grid_template_areas": null,
            "grid_template_columns": null,
            "grid_template_rows": null,
            "height": null,
            "justify_content": null,
            "justify_items": null,
            "left": null,
            "margin": null,
            "max_height": null,
            "max_width": null,
            "min_height": null,
            "min_width": null,
            "object_fit": null,
            "object_position": null,
            "order": null,
            "overflow": null,
            "padding": null,
            "right": null,
            "top": null,
            "visibility": null,
            "width": null
          }
        },
        "396b9f88e08744c8883856130b7ae003": {
          "model_module": "@jupyter-widgets/controls",
          "model_name": "HTMLStyleModel",
          "model_module_version": "2.0.0",
          "state": {
            "_model_module": "@jupyter-widgets/controls",
            "_model_module_version": "2.0.0",
            "_model_name": "HTMLStyleModel",
            "_view_count": null,
            "_view_module": "@jupyter-widgets/base",
            "_view_module_version": "2.0.0",
            "_view_name": "StyleView",
            "background": null,
            "description_width": "",
            "font_size": null,
            "text_color": null
          }
        }
      }
    }
  },
  "nbformat": 4,
  "nbformat_minor": 5
}